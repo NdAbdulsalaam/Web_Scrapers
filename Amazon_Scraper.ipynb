{
 "cells": [
  {
   "cell_type": "markdown",
   "metadata": {},
   "source": [
    "## Import libraries"
   ]
  },
  {
   "cell_type": "code",
   "execution_count": 3,
   "metadata": {},
   "outputs": [],
   "source": [
    "import re\n",
    "import time\n",
    "import smtplib\n",
    "import requests\n",
    "import pandas as pd\n",
    "from csv import writer\n",
    "from datetime import datetime\n",
    "from bs4 import BeautifulSoup"
   ]
  },
  {
   "cell_type": "markdown",
   "metadata": {},
   "source": [
    "## Check if connection is successful"
   ]
  },
  {
   "cell_type": "code",
   "execution_count": 4,
   "metadata": {},
   "outputs": [
    {
     "data": {
      "text/plain": [
       "<Response [200]>"
      ]
     },
     "execution_count": 4,
     "metadata": {},
     "output_type": "execute_result"
    }
   ],
   "source": [
    "url = 'https://www.amazon.com/Nokia-Steel-Hybrid-Smartwatch-Resistant/dp/B0798GWRGG/ref=sr_1_9?keywords=activity%2Btrackers%2Band%2Bsmartwatches&pd_rd_r=a6c0a0a4-29d8-4cfd-921c-280c740d508b&pd_rd_w=JX9Xe&pd_rd_wg=FU6Y3&pf_rd_p=33f8f65b-b95c-44af-8b89-e59e69e79828&pf_rd_r=T1N28BM9FNAEA37ASGCN&qid=1663312795&sr=8-9&th=1'\n",
    "# Define headers for the browser\n",
    "headers = {\"User-Agent\": \"Mozilla/5.0 (Windows NT 10.0; Win64; x64) AppleWebKit/537.36 (KHTML, like Gecko) Chrome/78.0.3904.108 Safari/537.36\", \"Accept-Encoding\":\"gzip, deflate\", \"Accept\":\"text/html,application/xhtml+xml,application/xml;q=0.9,*/*;q=0.8\", \"DNT\":\"1\",\"Connection\":\"close\", \"Upgrade-Insecure-Requests\":\"1\"}\n",
    "page = requests.get(url, headers=headers)\n",
    "page"
   ]
  },
  {
   "cell_type": "markdown",
   "metadata": {},
   "source": [
    "## Extracting and Inspecting each table row"
   ]
  },
  {
   "cell_type": "code",
   "execution_count": 5,
   "metadata": {},
   "outputs": [
    {
     "name": "stdout",
     "output_type": "stream",
     "text": [
      "Withings Steel HR Hybrid Smartwatch\n",
      "$199.99\n"
     ]
    }
   ],
   "source": [
    "## Extracting page content using html Parser\n",
    "soup = BeautifulSoup(page.content, \"html.parser\")\n",
    "\n",
    "# Alway check for the id and class. you may need to change id to class and vice versa\n",
    "title = soup.find(id='productTitle').get_text()\n",
    "price = soup.find(class_='a-offscreen').get_text()\n",
    "\n",
    "# I specified possible separators Amazon normally use to print the main title\n",
    "title = re.split(\"-|,|:\", title)[0]\n",
    "\n",
    "# Print title and price\n",
    "print(title.strip())\n",
    "print(price)"
   ]
  },
  {
   "cell_type": "code",
   "execution_count": 6,
   "metadata": {},
   "outputs": [
    {
     "name": "stdout",
     "output_type": "stream",
     "text": [
      "Date: 2022:09:16\n",
      "Time: 10:30:05\n"
     ]
    }
   ],
   "source": [
    "# Create a Timestamp for your output to track when data was collected\n",
    "now = datetime.now()\n",
    "date = now.strftime(\"%Y:%m:%d\") #small \"m\" and \"d\" work better\n",
    "time = now.strftime(\"%H:%M:%S\")\n",
    "print(f'Date: {date}')\n",
    "print(f'Time: {time}')"
   ]
  },
  {
   "cell_type": "code",
   "execution_count": 7,
   "metadata": {},
   "outputs": [],
   "source": [
    "# Create CSV and write headers and data into table\n",
    "header = ['Title', 'Price', 'Date', 'Time']\n",
    "data = [title, price, date, time]\n",
    "\n",
    "\n",
    "with open('AmazonDataset.csv', 'w', newline='', encoding='UTF8') as f:\n",
    "    thewriter = writer(f)\n",
    "    thewriter.writerow(header)\n",
    "    thewriter.writerow(data)"
   ]
  },
  {
   "cell_type": "code",
   "execution_count": 8,
   "metadata": {},
   "outputs": [
    {
     "data": {
      "text/html": [
       "<div>\n",
       "<style scoped>\n",
       "    .dataframe tbody tr th:only-of-type {\n",
       "        vertical-align: middle;\n",
       "    }\n",
       "\n",
       "    .dataframe tbody tr th {\n",
       "        vertical-align: top;\n",
       "    }\n",
       "\n",
       "    .dataframe thead th {\n",
       "        text-align: right;\n",
       "    }\n",
       "</style>\n",
       "<table border=\"1\" class=\"dataframe\">\n",
       "  <thead>\n",
       "    <tr style=\"text-align: right;\">\n",
       "      <th></th>\n",
       "      <th>Title</th>\n",
       "      <th>Price</th>\n",
       "      <th>Date</th>\n",
       "      <th>Time</th>\n",
       "    </tr>\n",
       "  </thead>\n",
       "  <tbody>\n",
       "    <tr>\n",
       "      <th>0</th>\n",
       "      <td>Withings Steel HR Hybrid Smartwatch</td>\n",
       "      <td>$199.99</td>\n",
       "      <td>2022:09:16</td>\n",
       "      <td>10:30:05</td>\n",
       "    </tr>\n",
       "  </tbody>\n",
       "</table>\n",
       "</div>"
      ],
      "text/plain": [
       "                                          Title    Price        Date      Time\n",
       "0          Withings Steel HR Hybrid Smartwatch   $199.99  2022:09:16  10:30:05"
      ]
     },
     "execution_count": 8,
     "metadata": {},
     "output_type": "execute_result"
    }
   ],
   "source": [
    "AmazonDataset = pd.read_csv('AmazonDataset.csv')\n",
    "AmazonDataset"
   ]
  },
  {
   "cell_type": "code",
   "execution_count": 9,
   "metadata": {},
   "outputs": [],
   "source": [
    "# Now append data to the csv\n",
    "with open('AmazonDataset.csv', 'a+', newline='', encoding='UTF8') as f:\n",
    "    thewriter = writer(f)\n",
    "    thewriter.writerow(data)"
   ]
  },
  {
   "cell_type": "code",
   "execution_count": 10,
   "metadata": {},
   "outputs": [],
   "source": [
    "#Combine all of the above code into one function\n",
    "def check_price():\n",
    "    url = 'https://www.amazon.com/Nokia-Steel-Hybrid-Smartwatch-Resistant/dp/B0798GWRGG/ref=sr_1_9?keywords=activity%2Btrackers%2Band%2Bsmartwatches&pd_rd_r=a6c0a0a4-29d8-4cfd-921c-280c740d508b&pd_rd_w=JX9Xe&pd_rd_wg=FU6Y3&pf_rd_p=33f8f65b-b95c-44af-8b89-e59e69e79828&pf_rd_r=T1N28BM9FNAEA37ASGCN&qid=1663312795&sr=8-9&th=1'\n",
    "\n",
    "    headers = {\"User-Agent\": \"Mozilla/5.0 (Windows NT 10.0; Win64; x64) AppleWebKit/537.36 (KHTML, like Gecko) Chrome/78.0.3904.108 Safari/537.36\", \"Accept-Encoding\":\"gzip, deflate\", \"Accept\":\"text/html,application/xhtml+xml,application/xml;q=0.9,*/*;q=0.8\", \"DNT\":\"1\",\"Connection\":\"close\", \"Upgrade-Insecure-Requests\":\"1\"}\n",
    "\n",
    "    page = requests.get(url, headers=headers)\n",
    "    soup = BeautifulSoup(page.content, \"html.parser\")\n",
    "\n",
    "    title = soup.find(id='productTitle').get_text()\n",
    "    price = soup.find(class_='a-offscreen').get_text()\n",
    "\n",
    "    title = re.split(\"-|,|:\", title)[0]\n",
    "\n",
    "    print(title.strip())\n",
    "    print(price)\n",
    "\n",
    "    now = datetime.now()\n",
    "    date = now.strftime(\"%Y:%m:%d\") #small \"m\" and \"d\" work better\n",
    "    time = now.strftime(\"%H:%M:%S\")\n",
    "\n",
    "    header = ['Title', 'Price', 'Date', 'Time']\n",
    "    data = [title, price, date, time]\n",
    "\n",
    "    with open('AmazonDataset.csv', 'a+', newline='', encoding='UTF8') as f:\n",
    "        thewriter = writer(f)\n",
    "        thewriter.writerow(data)\n",
    " "
   ]
  },
  {
   "cell_type": "code",
   "execution_count": 102,
   "metadata": {},
   "outputs": [
    {
     "name": "stdout",
     "output_type": "stream",
     "text": [
      "Withings Steel HR Hybrid Smartwatch\n",
      "$199.99\n"
     ]
    }
   ],
   "source": [
    "# Runs check_price after a set time and inputs data into your CSV\n",
    "while(True):\n",
    "    check_price()\n",
    "    time.sleep(86400)  # Wait for 86400 seconds"
   ]
  },
  {
   "cell_type": "code",
   "execution_count": null,
   "metadata": {},
   "outputs": [],
   "source": [
    "# Confirm changes\n",
    "AmazonDataset = pd.read_csv('AmazonDataset.csv')\n",
    "AmazonDataset"
   ]
  },
  {
   "cell_type": "code",
   "execution_count": 13,
   "metadata": {},
   "outputs": [],
   "source": [
    "# If you want to try sending yourself an email (just for fun) when a price hits below a certain level\n",
    "# you can try it out with this script\n",
    "\n",
    "def send_mail():\n",
    "    server = smtplib.SMTP_SSL('smtp.gmail.com',465)\n",
    "    server.ehlo()\n",
    "    #server.starttls()\n",
    "    server.ehlo()\n",
    "    server.login('olaitansalaam2012@gmail.com','password')\n",
    "    \n",
    "    subject = \"The Smartwatch you want is below $70! Now is your chance to buy!\"\n",
    "    body = \"Nurudeen, This is the moment we have been waiting for. Now is your chance to pick up the Smartwatch of your dreams. Don't mess it up! Link here: https://www.amazon.com/Funny-Data-Systems-Business-Analyst/dp/B07FNW9FGJ/ref=sr_1_3?dchild=1&keywords=data+analyst+tshirt&qid=1626655184&sr=8-3\"\n",
    "   \n",
    "    msg = f\"Subject: {subject}\\n\\n{body}\"\n",
    "    \n",
    "    server.sendmail(\n",
    "        'olaitansalaam2012@gmail.com',\n",
    "        msg\n",
    "     \n",
    "    )"
   ]
  },
  {
   "cell_type": "code",
   "execution_count": 14,
   "metadata": {},
   "outputs": [
    {
     "ename": "SMTPAuthenticationError",
     "evalue": "(534, b'5.7.9 Application-specific password required. Learn more at\\n5.7.9  https://support.google.com/mail/?p=InvalidSecondFactor o23-20020a17090611d700b007341663d7ddsm10173164eja.96 - gsmtp')",
     "output_type": "error",
     "traceback": [
      "\u001b[1;31m---------------------------------------------------------------------------\u001b[0m",
      "\u001b[1;31mSMTPAuthenticationError\u001b[0m                   Traceback (most recent call last)",
      "\u001b[1;32mc:\\Users\\User\\Desktop\\Data science\\Remote_completed_projects\\Web_scraper\\Amazon_scraper.ipynb Cell 15\u001b[0m in \u001b[0;36m<cell line: 1>\u001b[1;34m()\u001b[0m\n\u001b[1;32m----> <a href='vscode-notebook-cell:/c%3A/Users/User/Desktop/Data%20science/Remote_completed_projects/Web_scraper/Amazon_scraper.ipynb#X31sZmlsZQ%3D%3D?line=0'>1</a>\u001b[0m send_mail()\n",
      "\u001b[1;32mc:\\Users\\User\\Desktop\\Data science\\Remote_completed_projects\\Web_scraper\\Amazon_scraper.ipynb Cell 15\u001b[0m in \u001b[0;36msend_mail\u001b[1;34m()\u001b[0m\n\u001b[0;32m      <a href='vscode-notebook-cell:/c%3A/Users/User/Desktop/Data%20science/Remote_completed_projects/Web_scraper/Amazon_scraper.ipynb#X31sZmlsZQ%3D%3D?line=6'>7</a>\u001b[0m \u001b[39m#server.starttls()\u001b[39;00m\n\u001b[0;32m      <a href='vscode-notebook-cell:/c%3A/Users/User/Desktop/Data%20science/Remote_completed_projects/Web_scraper/Amazon_scraper.ipynb#X31sZmlsZQ%3D%3D?line=7'>8</a>\u001b[0m server\u001b[39m.\u001b[39mehlo()\n\u001b[1;32m----> <a href='vscode-notebook-cell:/c%3A/Users/User/Desktop/Data%20science/Remote_completed_projects/Web_scraper/Amazon_scraper.ipynb#X31sZmlsZQ%3D%3D?line=8'>9</a>\u001b[0m server\u001b[39m.\u001b[39;49mlogin(\u001b[39m'\u001b[39;49m\u001b[39molaitansalaam2012@gmail.com\u001b[39;49m\u001b[39m'\u001b[39;49m,\u001b[39m'\u001b[39;49m\u001b[39mKudirat/Ndsalaam@1913\u001b[39;49m\u001b[39m'\u001b[39;49m)\n\u001b[0;32m     <a href='vscode-notebook-cell:/c%3A/Users/User/Desktop/Data%20science/Remote_completed_projects/Web_scraper/Amazon_scraper.ipynb#X31sZmlsZQ%3D%3D?line=10'>11</a>\u001b[0m subject \u001b[39m=\u001b[39m \u001b[39m\"\u001b[39m\u001b[39mThe Smartwatch you want is below $60! Now is your chance to buy!\u001b[39m\u001b[39m\"\u001b[39m\n\u001b[0;32m     <a href='vscode-notebook-cell:/c%3A/Users/User/Desktop/Data%20science/Remote_completed_projects/Web_scraper/Amazon_scraper.ipynb#X31sZmlsZQ%3D%3D?line=11'>12</a>\u001b[0m body \u001b[39m=\u001b[39m \u001b[39m\"\u001b[39m\u001b[39mNurudeen, This is the moment we have been waiting for. Now is your chance to pick up the Smartwatch of your dreams. Don\u001b[39m\u001b[39m'\u001b[39m\u001b[39mt mess it up! Link here: https://www.amazon.com/Funny-Data-Systems-Business-Analyst/dp/B07FNW9FGJ/ref=sr_1_3?dchild=1&keywords=data+analyst+tshirt&qid=1626655184&sr=8-3\u001b[39m\u001b[39m\"\u001b[39m\n",
      "File \u001b[1;32mc:\\Users\\User\\AppData\\Local\\Programs\\Python\\Python310\\lib\\smtplib.py:750\u001b[0m, in \u001b[0;36mSMTP.login\u001b[1;34m(self, user, password, initial_response_ok)\u001b[0m\n\u001b[0;32m    747\u001b[0m         last_exception \u001b[39m=\u001b[39m e\n\u001b[0;32m    749\u001b[0m \u001b[39m# We could not login successfully.  Return result of last attempt.\u001b[39;00m\n\u001b[1;32m--> 750\u001b[0m \u001b[39mraise\u001b[39;00m last_exception\n",
      "File \u001b[1;32mc:\\Users\\User\\AppData\\Local\\Programs\\Python\\Python310\\lib\\smtplib.py:739\u001b[0m, in \u001b[0;36mSMTP.login\u001b[1;34m(self, user, password, initial_response_ok)\u001b[0m\n\u001b[0;32m    737\u001b[0m method_name \u001b[39m=\u001b[39m \u001b[39m'\u001b[39m\u001b[39mauth_\u001b[39m\u001b[39m'\u001b[39m \u001b[39m+\u001b[39m authmethod\u001b[39m.\u001b[39mlower()\u001b[39m.\u001b[39mreplace(\u001b[39m'\u001b[39m\u001b[39m-\u001b[39m\u001b[39m'\u001b[39m, \u001b[39m'\u001b[39m\u001b[39m_\u001b[39m\u001b[39m'\u001b[39m)\n\u001b[0;32m    738\u001b[0m \u001b[39mtry\u001b[39;00m:\n\u001b[1;32m--> 739\u001b[0m     (code, resp) \u001b[39m=\u001b[39m \u001b[39mself\u001b[39;49m\u001b[39m.\u001b[39;49mauth(\n\u001b[0;32m    740\u001b[0m         authmethod, \u001b[39mgetattr\u001b[39;49m(\u001b[39mself\u001b[39;49m, method_name),\n\u001b[0;32m    741\u001b[0m         initial_response_ok\u001b[39m=\u001b[39;49minitial_response_ok)\n\u001b[0;32m    742\u001b[0m     \u001b[39m# 235 == 'Authentication successful'\u001b[39;00m\n\u001b[0;32m    743\u001b[0m     \u001b[39m# 503 == 'Error: already authenticated'\u001b[39;00m\n\u001b[0;32m    744\u001b[0m     \u001b[39mif\u001b[39;00m code \u001b[39min\u001b[39;00m (\u001b[39m235\u001b[39m, \u001b[39m503\u001b[39m):\n",
      "File \u001b[1;32mc:\\Users\\User\\AppData\\Local\\Programs\\Python\\Python310\\lib\\smtplib.py:662\u001b[0m, in \u001b[0;36mSMTP.auth\u001b[1;34m(self, mechanism, authobject, initial_response_ok)\u001b[0m\n\u001b[0;32m    660\u001b[0m \u001b[39mif\u001b[39;00m code \u001b[39min\u001b[39;00m (\u001b[39m235\u001b[39m, \u001b[39m503\u001b[39m):\n\u001b[0;32m    661\u001b[0m     \u001b[39mreturn\u001b[39;00m (code, resp)\n\u001b[1;32m--> 662\u001b[0m \u001b[39mraise\u001b[39;00m SMTPAuthenticationError(code, resp)\n",
      "\u001b[1;31mSMTPAuthenticationError\u001b[0m: (534, b'5.7.9 Application-specific password required. Learn more at\\n5.7.9  https://support.google.com/mail/?p=InvalidSecondFactor o23-20020a17090611d700b007341663d7ddsm10173164eja.96 - gsmtp')"
     ]
    }
   ],
   "source": [
    "send_mail()"
   ]
  },
  {
   "cell_type": "code",
   "execution_count": null,
   "metadata": {},
   "outputs": [],
   "source": []
  }
 ],
 "metadata": {
  "kernelspec": {
   "display_name": "Python 3.10.4 64-bit",
   "language": "python",
   "name": "python3"
  },
  "language_info": {
   "codemirror_mode": {
    "name": "ipython",
    "version": 3
   },
   "file_extension": ".py",
   "mimetype": "text/x-python",
   "name": "python",
   "nbconvert_exporter": "python",
   "pygments_lexer": "ipython3",
   "version": "3.10.4"
  },
  "orig_nbformat": 4,
  "vscode": {
   "interpreter": {
    "hash": "afb734500600fd355917ca529030176ea0ca205570884b88f2f6f7d791fd3fbe"
   }
  }
 },
 "nbformat": 4,
 "nbformat_minor": 2
}
